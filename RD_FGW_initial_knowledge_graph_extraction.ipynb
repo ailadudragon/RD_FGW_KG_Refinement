{
 "cells": [
  {
   "cell_type": "markdown",
   "id": "da6e142d-c80c-4412-8429-5a92b3990dd7",
   "metadata": {},
   "source": [
    "# Bootstrap a raw knowledge graph (KG) from lecture notes (Markdown) \n",
    "- Extract an initial knowledge graph a lecture notes in Markdown.\n",
    "- The knowledge graph should be task-oriented using a set of allowed relations. "
   ]
  },
  {
   "cell_type": "code",
   "execution_count": null,
   "id": "007ef9d1-d7a5-4e5b-ba63-d2787ee2aee6",
   "metadata": {},
   "outputs": [],
   "source": [
    "import hashlib\n",
    "import json\n",
    "import os\n",
    "import sys\n",
    "from datetime import datetime\n",
    "\n",
    "import math\n",
    "\n",
    "import networkx as nx\n",
    "\n",
    "from typing import Dict, Any, Iterable, Optional, Tuple, List\n",
    "\n",
    "import matplotlib.pyplot as plt"
   ]
  },
  {
   "cell_type": "code",
   "execution_count": null,
   "id": "65076687-70d5-4585-b4a7-2ac9502f32e3",
   "metadata": {},
   "outputs": [],
   "source": [
    "from dotenv import load_dotenv\n",
    "load_dotenv()\n",
    "\n",
    "OPENAI_API_KEY = os.getenv(\"OPENAI_API_KEY\")"
   ]
  },
  {
   "cell_type": "code",
   "execution_count": null,
   "id": "a7362544-4fcd-41d8-a43a-88a5dd4b3e17",
   "metadata": {},
   "outputs": [],
   "source": [
    "from openai import OpenAI"
   ]
  },
  {
   "cell_type": "markdown",
   "id": "2061d031-d394-4803-ba54-b78fb28f26f7",
   "metadata": {},
   "source": [
    "## Task-Oriented Allowed Relations"
   ]
  },
  {
   "cell_type": "code",
   "execution_count": null,
   "id": "40c1d6f9-08da-40f4-b866-10afc06f512c",
   "metadata": {},
   "outputs": [],
   "source": [
    "allowed_relations = \"\"\"\n",
    "isA, partOf, prerequisiteOf, dependsOn, relatedTo, synonymOf, antonymOf, contrastsWith, \n",
    "defines, uses, usedBy, appliesTo, exampleOf, counterexampleOf, illustratedBy, causes, \n",
    "resultsIn, prevents, assumes, implies, equivalentTo, parameterOf, hasParameter, \n",
    "propertyOf, hasProperty, measuredBy, unitOf, representedBy, notationFor, formulaFor, \n",
    "provedBy, theoremOf, algorithmFor, stepOf, produces, consumes, advantageOf, limitationOf, \n",
    "commonErrorIn, misconceptionOf, commonlyConfusedWith, assessedBy\n",
    "\"\"\""
   ]
  },
  {
   "cell_type": "markdown",
   "id": "87f4bf5d-3c04-4d27-b9b3-d227a341bc09",
   "metadata": {},
   "source": [
    "## LLM Prompt for KG Extraction"
   ]
  },
  {
   "cell_type": "code",
   "execution_count": null,
   "id": "c2d7f72b-5cc7-4af3-afd5-37162062e056",
   "metadata": {},
   "outputs": [],
   "source": [
    "# ---------- Prompt template (same content for chat or programmatic use) ----------\n",
    "PROMPT_KG_EXTRACT = r\"\"\"\n",
    "You are an expert information extractor. Convert the provided lecture notes (markdown-annotated) \n",
    "into a compact, provenance-linked knowledge graph that strictly uses the allowed relations.\n",
    "\n",
    "INPUTS\n",
    "- LECTURE_MD: full markdown notes (headings, lists, code, math, tables).\n",
    "- ALLOWED_RELATIONS: the exact relation names you may use (string list).\n",
    "\n",
    "REQUIREMENTS\n",
    "1) Output ONLY valid JSON matching the schema below—no commentary.\n",
    "2) Use ONLY relations in ALLOWED_RELATIONS; if none applies, omit the edge.\n",
    "3) Ground every node/edge with provenance: section_path, line spans, text_excerpt.\n",
    "4) Prefer salient, testable concepts for MCQ generation.\n",
    "5) No hallucinations; everything must be supported by a cited span.\n",
    "6) De-duplicate nodes; keep a canonical label and store variants in aliases.\n",
    "7) confidence in [0,1] with rationale. Keep graphs concise and informative.\n",
    "\n",
    "SEGMENTATION\n",
    "- Build section_path from markdown headings.\n",
    "- Atomic spans: paragraphs, list items, table rows, math blocks ($...$ / $$...$$), code fences ```...```.\n",
    "- Capture math and code when they define/relate constructs.\n",
    "\n",
    "TARGET JSON SCHEMA\n",
    "{{\n",
    "  \"meta\": {{\n",
    "    \"source\": \"string\",\n",
    "    \"extraction_time\": \"ISO-8601 string\",\n",
    "    \"notes_hash\": \"sha256 of LECTURE_MD\",\n",
    "    \"allowed_relations\": [\"string\"]\n",
    "  }},\n",
    "  \"nodes\": [\n",
    "    {{\n",
    "      \"id\": \"string\",\n",
    "      \"label\": \"string\",\n",
    "      \"type\": \"string\",\n",
    "      \"definition\": \"string\",\n",
    "      \"aliases\": [\"string\"],\n",
    "      \"attributes\": {{ \"key\": \"value\" }},\n",
    "      \"provenance\": [\n",
    "        {{\"section_path\": [\"string\"], \"line_start\": 0, \"line_end\": 0, \"text_excerpt\": \"string\"}}\n",
    "      ],\n",
    "      \"confidence\": 0.0,\n",
    "      \"rationale\": \"string\"\n",
    "    }}\n",
    "  ],\n",
    "  \"edges\": [\n",
    "    {{\n",
    "      \"id\": \"string\",\n",
    "      \"source\": \"string\",\n",
    "      \"target\": \"string\",\n",
    "      \"relation\": \"string\",\n",
    "      \"provenance\": [\n",
    "        {{\"section_path\": [\"string\"], \"line_start\": 0, \"line_end\": 0, \"text_excerpt\": \"string\"}}\n",
    "      ],\n",
    "      \"confidence\": 0.0,\n",
    "      \"rationale\": \"string\"\n",
    "    }}\n",
    "  ]\n",
    "}}\n",
    "\n",
    "ALGORITHM\n",
    "1) Segment & index markdown into spans.\n",
    "2) Extract candidate nodes; normalize; collect aliases.\n",
    "3) Extract edges using only ALLOWED_RELATIONS from supported cues.\n",
    "4) Attach provenance and confidence with rationale.\n",
    "5) Deduplicate & prune; enforce constraints.\n",
    "6) Validate JSON; emit JSON only.\n",
    "\n",
    "RETURN\n",
    "Only the final JSON object.\n",
    "\n",
    "NOW PROCESS WITH:\n",
    "- ALLOWED_RELATIONS:\n",
    "{allowed_relations}\n",
    "- LECTURE_MD:\n",
    "{lecture_md}\n",
    "\"\"\""
   ]
  },
  {
   "cell_type": "markdown",
   "id": "7cde4c91-c88a-4384-8973-7c072fa27143",
   "metadata": {},
   "source": [
    "## Extraction Unitility Functions"
   ]
  },
  {
   "cell_type": "code",
   "execution_count": null,
   "id": "9e3d9da3-a3b3-4d65-b7ea-0d8b6b7bc5c6",
   "metadata": {},
   "outputs": [],
   "source": [
    "def sha256_text(text: str) -> str:\n",
    "    return hashlib.sha256(text.encode(\"utf-8\")).hexdigest()\n",
    "\n",
    "\n",
    "def load_markdown(path: str) -> str:\n",
    "    with open(path, \"r\", encoding=\"utf-8\") as f:\n",
    "        return f.read()\n",
    "\n",
    "\n",
    "def build_prompt(md_text: str, allowed_relations: List[str]) -> str:\n",
    "    return PROMPT_KG_EXTRACT.format(\n",
    "        allowed_relations=json.dumps(allowed_relations, ensure_ascii=False),\n",
    "        lecture_md=md_text\n",
    "    )\n",
    "\n",
    "\n",
    "def parse_relations(relations_arg: str) -> List[str]:\n",
    "    \"\"\"\n",
    "    Accepts either:\n",
    "      - a JSON list string: '[\"isA\",\"uses\"]'\n",
    "      - a comma-separated string: 'isA,uses'\n",
    "    \"\"\"\n",
    "    try:\n",
    "        val = json.loads(relations_arg)\n",
    "        if isinstance(val, list) and all(isinstance(x, str) for x in val):\n",
    "            return val\n",
    "    except json.JSONDecodeError:\n",
    "        pass\n",
    "    # fallback: CSV\n",
    "    return [x.strip() for x in relations_arg.split(\",\") if x.strip()]"
   ]
  },
  {
   "cell_type": "code",
   "execution_count": null,
   "id": "e268ce34-f727-4892-8d16-a0f57b164f72",
   "metadata": {},
   "outputs": [],
   "source": [
    "def call_openai(prompt: str, model: str) -> str:\n",
    "    client = OpenAI(api_key=OPENAI_API_KEY)\n",
    "\n",
    "    model = str(model)  # ensure it’s a plain string\n",
    "\n",
    "    try:\n",
    "        resp = client.chat.completions.create(\n",
    "            model=model,\n",
    "            messages=[\n",
    "                {\"role\": \"system\", \"content\": \"You are a helpful assistant on the given task.\"},\n",
    "                {\"role\": \"user\", \"content\": prompt},\n",
    "            ],\n",
    "            # temperature=0,  # optional\n",
    "        )\n",
    "        return resp.choices[0].message.content.strip()\n",
    "    except Exception as e:\n",
    "        raise RuntimeError(f\"LLM call failed: {e}\")"
   ]
  },
  {
   "cell_type": "markdown",
   "id": "e91e2d04-3521-4483-8841-4dd6a4a80ace",
   "metadata": {},
   "source": [
    "## Post Processing"
   ]
  },
  {
   "cell_type": "code",
   "execution_count": null,
   "id": "49949d20-95f7-4451-875b-f131ea2ae653",
   "metadata": {},
   "outputs": [],
   "source": [
    "import json\n",
    "import re\n",
    "\n",
    "def extract_json_string(raw: str):\n",
    "    \"\"\"\n",
    "    Given a raw string from the LLM, attempt to extract a valid JSON string.\n",
    "    Works even if the raw string already *is* JSON, or if JSON is embedded\n",
    "    within explanatory text.\n",
    "    \"\"\"\n",
    "    raw = raw.strip()\n",
    "\n",
    "    # Case 1: Looks like pure JSON object already\n",
    "    if raw.startswith(\"{\") and raw.endswith(\"}\"):\n",
    "        try:\n",
    "            return json.loads(raw)\n",
    "        except json.JSONDecodeError:\n",
    "            pass  # fall through\n",
    "\n",
    "    # Case 2: Try to find the largest {...} block with regex\n",
    "    try:\n",
    "        match = re.search(r\"\\{.*\\}\", raw, re.DOTALL)\n",
    "        if match:\n",
    "            candidate = match.group(0)\n",
    "            return json.loads(candidate)\n",
    "    except Exception:\n",
    "        pass\n",
    "\n",
    "    # Case 3: Not JSON, return as-is for debugging\n",
    "    raise ValueError(\"No valid JSON found in raw output:\\n\" + raw[:500])"
   ]
  },
  {
   "cell_type": "code",
   "execution_count": null,
   "id": "ea55222d-a698-4876-a8d1-926110d7d833",
   "metadata": {},
   "outputs": [],
   "source": [
    "# Optionally post-validate JSON (even when schema is enforced, defensive parsing is wise)\n",
    "def post_process_save(raw, md_text):\n",
    "    try:\n",
    "        parsed = extract_json_string(raw)\n",
    "    \n",
    "        # Enrich meta (non-destructive): fill source/hash/time if missing\n",
    "        notes_hash = sha256_text(md_text)\n",
    "        meta = parsed.get(\"meta\", {})\n",
    "        meta.setdefault(\"source\", os.path.abspath(input_path))\n",
    "        meta.setdefault(\"extraction_time\", datetime.utcnow().isoformat() + \"Z\")\n",
    "        meta.setdefault(\"notes_hash\", notes_hash)\n",
    "        meta.setdefault(\"allowed_relations\", relations)\n",
    "        parsed[\"meta\"] = meta\n",
    "    \n",
    "        #output_text = json.dumps(parsed, indent=2, ensure_ascii=False)\n",
    "    \n",
    "        return parsed\n",
    "    \n",
    "    except json.JSONDecodeError as e:\n",
    "        print(\"Model did not return valid JSON. Printing raw text to help debugging.\\n\")\n",
    "    \n",
    "        print(raw)   "
   ]
  },
  {
   "cell_type": "markdown",
   "id": "4857637e-e565-42c0-a5ed-25546b73fa9f",
   "metadata": {},
   "source": [
    "## Knowledge Graph Visualization"
   ]
  },
  {
   "cell_type": "code",
   "execution_count": null,
   "id": "e9a7f780-8675-4d81-a70e-49aa272be725",
   "metadata": {},
   "outputs": [],
   "source": [
    "# ----------------------------- Build graph -----------------------------\n",
    "def build_nx_graph(kg: Dict[str, Any]) -> nx.DiGraph:\n",
    "    \"\"\"\n",
    "    Build a directed NetworkX graph from a KG dict with shape:\n",
    "      {\n",
    "        \"meta\": {...},\n",
    "        \"nodes\": [\n",
    "           {\"id\": \"...\", \"label\": \"...\", \"type\": \"...\", \"definition\": \"...\", \"aliases\":[...],\n",
    "            \"attributes\": {...}, \"provenance\":[...], \"confidence\": float, \"rationale\": \"...\"}\n",
    "        ],\n",
    "        \"edges\": [\n",
    "           {\"id\": \"...\", \"source\":\"...\", \"target\":\"...\", \"relation\":\"...\", \"provenance\":[...],\n",
    "            \"confidence\": float, \"rationale\": \"...\"}\n",
    "        ]\n",
    "      }\n",
    "\n",
    "    Returns:\n",
    "      nx.DiGraph with node/edge attributes preserved where sensible.\n",
    "    \"\"\"\n",
    "    if not isinstance(kg, dict):\n",
    "        raise TypeError(\"kg must be a dict (parsed JSON).\")\n",
    "    nodes = kg.get(\"nodes\", [])\n",
    "    edges = kg.get(\"edges\", [])\n",
    "\n",
    "    G = nx.DiGraph()\n",
    "    # Add nodes\n",
    "    for n in nodes:\n",
    "        nid = n.get(\"id\")\n",
    "        if not nid:\n",
    "            # Skip nodes without an id\n",
    "            continue\n",
    "        # Preserve common attributes (safe defaults)\n",
    "        G.add_node(\n",
    "            nid,\n",
    "            label=n.get(\"label\", nid),\n",
    "            type=n.get(\"type\", \"concept\"),\n",
    "            definition=n.get(\"definition\", \"\"),\n",
    "            aliases=n.get(\"aliases\", []),\n",
    "            attributes=n.get(\"attributes\", {}),\n",
    "            provenance=n.get(\"provenance\", []),\n",
    "            confidence=n.get(\"confidence\", None),\n",
    "            rationale=n.get(\"rationale\", \"\"),\n",
    "        )\n",
    "\n",
    "    # Add edges\n",
    "    for e in edges:\n",
    "        sid = e.get(\"source\")\n",
    "        tid = e.get(\"target\")\n",
    "        if not sid or not tid:\n",
    "            continue\n",
    "        if sid not in G or tid not in G:\n",
    "            # Ensure endpoints exist (skip otherwise)\n",
    "            continue\n",
    "        G.add_edge(\n",
    "            sid,\n",
    "            tid,\n",
    "            id=e.get(\"id\"),\n",
    "            relation=e.get(\"relation\", \"relatedTo\"),\n",
    "            provenance=e.get(\"provenance\", []),\n",
    "            confidence=e.get(\"confidence\", None),\n",
    "            rationale=e.get(\"rationale\", \"\"),\n",
    "        )\n",
    "\n",
    "    # Attach meta to graph graph-level attributes\n",
    "    if \"meta\" in kg:\n",
    "        G.graph[\"meta\"] = kg[\"meta\"]\n",
    "    return G"
   ]
  },
  {
   "cell_type": "code",
   "execution_count": null,
   "id": "ea25d145-6727-4a18-831b-96abda2e3cf9",
   "metadata": {},
   "outputs": [],
   "source": [
    "# ----------------------------- Helpers for visualization -----------------------------\n",
    "def _select_subgraph_by_degree(G: nx.DiGraph, max_nodes: int) -> nx.DiGraph:\n",
    "    \"\"\"\n",
    "    If the graph is larger than max_nodes, keep nodes with highest total degree (in+out).\n",
    "    \"\"\"\n",
    "    if max_nodes is None or max_nodes <= 0 or G.number_of_nodes() <= max_nodes:\n",
    "        return G\n",
    "\n",
    "    # Score nodes by degree (in + out)\n",
    "    degree_scores = {n: (G.in_degree(n) + G.out_degree(n)) for n in G.nodes()}\n",
    "    top_nodes = sorted(degree_scores, key=degree_scores.get, reverse=True)[:max_nodes]\n",
    "    return G.subgraph(top_nodes).copy()\n",
    "\n",
    "\n",
    "def _node_labels(G: nx.DiGraph, node_label_attr: str = \"label\", truncate: int = 40) -> Dict[Any, str]:\n",
    "    \"\"\"\n",
    "    Build label mapping for nodes. Falls back to node id.\n",
    "    \"\"\"\n",
    "    labels = {}\n",
    "    for n, data in G.nodes(data=True):\n",
    "        val = data.get(node_label_attr, \"\") if isinstance(data, dict) else \"\"\n",
    "        if not val:\n",
    "            val = str(n)\n",
    "        if truncate and len(str(val)) > truncate:\n",
    "            val = str(val)[:truncate - 1] + \"…\"\n",
    "        labels[n] = val\n",
    "    return labels\n",
    "\n",
    "\n",
    "def _edge_labels(G: nx.DiGraph, truncate: int = 30) -> Dict[Tuple[Any, Any], str]:\n",
    "    \"\"\"\n",
    "    Build label mapping for edges from the 'relation' attribute, include confidence if present.\n",
    "    \"\"\"\n",
    "    labels = {}\n",
    "    for u, v, data in G.edges(data=True):\n",
    "        rel = data.get(\"relation\", \"rel\")\n",
    "        conf = data.get(\"confidence\", None)\n",
    "        txt = f\"{rel}\" if conf is None else f\"{rel} ({conf:.2f})\"\n",
    "        if truncate and len(txt) > truncate:\n",
    "            txt = txt[:truncate - 1] + \"…\"\n",
    "        labels[(u, v)] = txt\n",
    "    return labels\n"
   ]
  },
  {
   "cell_type": "code",
   "execution_count": null,
   "id": "05ffcd22-0989-4111-8ef4-c2dee5953b6d",
   "metadata": {},
   "outputs": [],
   "source": [
    "# ----------------------------- Visualization -----------------------------\n",
    "def visualize_graph(\n",
    "    G: nx.DiGraph,\n",
    "    title: Optional[str] = None,\n",
    "    max_nodes: int = 150,\n",
    "    node_label_attr: str = \"label\",\n",
    "    with_edge_labels: bool = True,\n",
    "    k_layout: Optional[float] = None,\n",
    "    iterations: int = 100,\n",
    "    seed: int = 42,\n",
    "    figsize: Tuple[int, int] = (12, 9),\n",
    ") -> None:\n",
    "    \"\"\"\n",
    "    Visualize the graph with a spring layout.\n",
    "    - max_nodes: limit graph size for readability (keep top-degree nodes).\n",
    "    - node_label_attr: which node attribute to display (e.g., \"label\" or \"id\").\n",
    "    - with_edge_labels: toggle edge relation labels (can be heavy on big graphs).\n",
    "    - k_layout: spring_layout spacing parameter (None lets networkx choose).\n",
    "    - iterations: spring iterations.\n",
    "    - seed: layout seed for reproducibility.\n",
    "    - figsize: matplotlib figure size.\n",
    "\n",
    "    Note: For very large graphs, consider setting with_edge_labels=False or lowering max_nodes.\n",
    "    \"\"\"\n",
    "    if G.number_of_nodes() == 0:\n",
    "        raise ValueError(\"Graph has no nodes to visualize.\")\n",
    "\n",
    "    H = _select_subgraph_by_degree(G, max_nodes=max_nodes)\n",
    "\n",
    "    # Positions via spring layout (force-directed)\n",
    "    pos = nx.spring_layout(H, k=k_layout, iterations=iterations, seed=seed)\n",
    "\n",
    "    # Prepare labels\n",
    "    nlabels = _node_labels(H, node_label_attr=node_label_attr)\n",
    "    elabels = _edge_labels(H) if with_edge_labels else None\n",
    "\n",
    "    # Node sizes scaled by degree\n",
    "    degs = [H.degree(n) for n in H.nodes()]\n",
    "    # sqrt scaling for aesthetics\n",
    "    node_sizes = [300 + 50 * math.sqrt(d) for d in degs]\n",
    "\n",
    "    # Draw\n",
    "    plt.figure(figsize=figsize)\n",
    "    nx.draw_networkx_nodes(H, pos, node_size=node_sizes, linewidths=0.5, edgecolors=\"black\")\n",
    "    nx.draw_networkx_edges(H, pos, arrows=True, arrowstyle=\"-|>\", width=0.8, alpha=0.8)\n",
    "    nx.draw_networkx_labels(H, pos, labels=nlabels, font_size=9)\n",
    "\n",
    "    if with_edge_labels and elabels:\n",
    "        nx.draw_networkx_edge_labels(H, pos, edge_labels=elabels, font_size=8)\n",
    "\n",
    "    if title:\n",
    "        plt.title(title)\n",
    "\n",
    "    plt.axis(\"off\")\n",
    "    plt.tight_layout()\n",
    "    plt.show()"
   ]
  },
  {
   "cell_type": "markdown",
   "id": "daae5916-dc5e-4c71-8ac7-a7658f9597ec",
   "metadata": {},
   "source": [
    "## Run Pipeline\n",
    "### Extract an initial KG from a lecture notes"
   ]
  },
  {
   "cell_type": "code",
   "execution_count": null,
   "id": "bf5e8512-5189-49d4-b265-e1a85c94f294",
   "metadata": {},
   "outputs": [],
   "source": [
    "input_path = \"./data/lecture_notes_8.md\"\n",
    "output_kg_json_path = \"./data/kg8.json\" "
   ]
  },
  {
   "cell_type": "code",
   "execution_count": null,
   "id": "d523a267-4f33-4462-9393-b0248843534c",
   "metadata": {},
   "outputs": [],
   "source": [
    "md_text = load_markdown(input_path)"
   ]
  },
  {
   "cell_type": "code",
   "execution_count": null,
   "id": "4b201f4c-0d27-4c86-8ae4-03d7ac0a3bfe",
   "metadata": {},
   "outputs": [],
   "source": [
    "relations = parse_relations(allowed_relations)"
   ]
  },
  {
   "cell_type": "code",
   "execution_count": null,
   "id": "86fe633d-43c6-40d5-97f9-e2d3e17fc955",
   "metadata": {},
   "outputs": [],
   "source": [
    "prompt = build_prompt(md_text, relations)"
   ]
  },
  {
   "cell_type": "code",
   "execution_count": null,
   "id": "5d41e62f-7eb2-4a8c-b7a4-72a695680523",
   "metadata": {
    "scrolled": true
   },
   "outputs": [],
   "source": [
    "prompt"
   ]
  },
  {
   "cell_type": "code",
   "execution_count": null,
   "id": "169ef4b4-53e3-4d0b-a376-9b55f060d7e5",
   "metadata": {},
   "outputs": [],
   "source": [
    "# Call model\n",
    "model = \"gpt-4o-mini\"\n",
    "raw = call_openai(prompt=prompt, model=model)"
   ]
  },
  {
   "cell_type": "code",
   "execution_count": null,
   "id": "5470cc51-1ec2-4c88-8411-375b6e50bcd2",
   "metadata": {},
   "outputs": [],
   "source": [
    "output_kg_json = post_process_save(raw, md_text) "
   ]
  },
  {
   "cell_type": "code",
   "execution_count": null,
   "id": "3e5b2366-55f2-45e0-83b6-a2d80c5c93d5",
   "metadata": {
    "scrolled": true
   },
   "outputs": [],
   "source": [
    "output_kg_json"
   ]
  },
  {
   "cell_type": "code",
   "execution_count": null,
   "id": "7b33976f-6e39-4a4f-8e10-54ad9e1a3d3e",
   "metadata": {},
   "outputs": [],
   "source": [
    "G = build_nx_graph(output_kg_json)"
   ]
  },
  {
   "cell_type": "code",
   "execution_count": null,
   "id": "a83cb9cf-1b7a-41f4-822f-34f75ec91a16",
   "metadata": {},
   "outputs": [],
   "source": [
    "visualize_graph(G, title=\"Knowledge Graph\", max_nodes=120, node_label_attr=\"label\")"
   ]
  },
  {
   "cell_type": "code",
   "execution_count": null,
   "id": "16287cb7-7ce9-44ce-8a24-42f62a965d2f",
   "metadata": {},
   "outputs": [],
   "source": [
    "len(output_kg_json['nodes']), len(output_kg_json['edges'])"
   ]
  },
  {
   "cell_type": "markdown",
   "id": "3974f6e8-2f12-4f76-bad7-6fa98f495fa8",
   "metadata": {},
   "source": [
    "## Save the Initial KG to File"
   ]
  },
  {
   "cell_type": "code",
   "execution_count": null,
   "id": "d56e91a8-6e40-453d-be7b-7a00b66d7167",
   "metadata": {},
   "outputs": [],
   "source": [
    "output_text = json.dumps(output_kg_json, indent=2, ensure_ascii=False)\n",
    "    \n",
    "with open(output_kg_json_path, \"w\", encoding=\"utf-8\") as f:\n",
    "    f.write(output_text)\n",
    "    print(f\"[OK] Knowledge graph written to {output_kg_json_path}\")"
   ]
  },
  {
   "cell_type": "code",
   "execution_count": null,
   "id": "4f5b90f8-fe42-4022-8a80-40ea609ad768",
   "metadata": {},
   "outputs": [],
   "source": []
  }
 ],
 "metadata": {
  "kernelspec": {
   "display_name": "drtutor",
   "language": "python",
   "name": "drtutor"
  },
  "language_info": {
   "codemirror_mode": {
    "name": "ipython",
    "version": 3
   },
   "file_extension": ".py",
   "mimetype": "text/x-python",
   "name": "python",
   "nbconvert_exporter": "python",
   "pygments_lexer": "ipython3",
   "version": "3.11.5"
  }
 },
 "nbformat": 4,
 "nbformat_minor": 5
}
