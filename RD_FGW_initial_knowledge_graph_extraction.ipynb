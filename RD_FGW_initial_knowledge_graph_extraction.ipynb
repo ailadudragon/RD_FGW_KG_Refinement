{
 "cells": [
  {
   "cell_type": "markdown",
   "id": "da6e142d-c80c-4412-8429-5a92b3990dd7",
   "metadata": {},
   "source": [
    "# Bootstrap a raw knowledge graph (KG) from lecture notes (Markdown) \n",
    "- Extract an initial knowledge graph a lecture notes in Markdown.\n",
    "- The knowledge graph should be task-oriented using a set of allowed relations. "
   ]
  },
  {
   "cell_type": "code",
   "execution_count": 1,
   "id": "007ef9d1-d7a5-4e5b-ba63-d2787ee2aee6",
   "metadata": {},
   "outputs": [],
   "source": [
    "import hashlib\n",
    "import json\n",
    "import os\n",
    "import sys\n",
    "from datetime import datetime\n",
    "\n",
    "import math\n",
    "\n",
    "import networkx as nx\n",
    "\n",
    "from typing import Dict, Any, Iterable, Optional, Tuple, List\n",
    "\n",
    "import matplotlib.pyplot as plt"
   ]
  },
  {
   "cell_type": "code",
   "execution_count": 2,
   "id": "65076687-70d5-4585-b4a7-2ac9502f32e3",
   "metadata": {},
   "outputs": [],
   "source": [
    "from dotenv import load_dotenv\n",
    "load_dotenv()\n",
    "\n",
    "OPENAI_API_KEY = os.getenv(\"OPENAI_API_KEY\")"
   ]
  },
  {
   "cell_type": "code",
   "execution_count": 3,
   "id": "a7362544-4fcd-41d8-a43a-88a5dd4b3e17",
   "metadata": {},
   "outputs": [],
   "source": [
    "from openai import OpenAI"
   ]
  },
  {
   "cell_type": "markdown",
   "id": "2061d031-d394-4803-ba54-b78fb28f26f7",
   "metadata": {},
   "source": [
    "## Task-Oriented Allowed Relations"
   ]
  },
  {
   "cell_type": "code",
   "execution_count": 4,
   "id": "40c1d6f9-08da-40f4-b866-10afc06f512c",
   "metadata": {},
   "outputs": [],
   "source": [
    "allowed_relations = \"\"\"\n",
    "isA, partOf, prerequisiteOf, dependsOn, relatedTo, synonymOf, antonymOf, contrastsWith, \n",
    "defines, uses, usedBy, appliesTo, exampleOf, counterexampleOf, illustratedBy, causes, \n",
    "resultsIn, prevents, assumes, implies, equivalentTo, parameterOf, hasParameter, \n",
    "propertyOf, hasProperty, measuredBy, unitOf, representedBy, notationFor, formulaFor, \n",
    "provedBy, theoremOf, algorithmFor, stepOf, produces, consumes, advantageOf, limitationOf, \n",
    "commonErrorIn, misconceptionOf, commonlyConfusedWith, assessedBy\n",
    "\"\"\""
   ]
  },
  {
   "cell_type": "markdown",
   "id": "87f4bf5d-3c04-4d27-b9b3-d227a341bc09",
   "metadata": {},
   "source": [
    "## LLM Prompt for KG Extraction"
   ]
  },
  {
   "cell_type": "code",
   "execution_count": 5,
   "id": "c2d7f72b-5cc7-4af3-afd5-37162062e056",
   "metadata": {},
   "outputs": [],
   "source": [
    "# ---------- Prompt template (same content for chat or programmatic use) ----------\n",
    "PROMPT_KG_EXTRACT = r\"\"\"\n",
    "You are an expert information extractor. Convert the provided lecture notes (markdown-annotated) \n",
    "into a compact, provenance-linked knowledge graph that strictly uses the allowed relations.\n",
    "\n",
    "INPUTS\n",
    "- LECTURE_MD: full markdown notes (headings, lists, code, math, tables).\n",
    "- ALLOWED_RELATIONS: the exact relation names you may use (string list).\n",
    "\n",
    "REQUIREMENTS\n",
    "1) Output ONLY valid JSON matching the schema below—no commentary.\n",
    "2) Use ONLY relations in ALLOWED_RELATIONS; if none applies, omit the edge.\n",
    "3) Ground every node/edge with provenance: section_path, line spans, text_excerpt.\n",
    "4) Prefer salient, testable concepts for MCQ generation.\n",
    "5) No hallucinations; everything must be supported by a cited span.\n",
    "6) De-duplicate nodes; keep a canonical label and store variants in aliases.\n",
    "7) confidence in [0,1] with rationale. Keep graphs concise and informative.\n",
    "\n",
    "SEGMENTATION\n",
    "- Build section_path from markdown headings.\n",
    "- Atomic spans: paragraphs, list items, table rows, math blocks ($...$ / $$...$$), code fences ```...```.\n",
    "- Capture math and code when they define/relate constructs.\n",
    "\n",
    "TARGET JSON SCHEMA\n",
    "{{\n",
    "  \"meta\": {{\n",
    "    \"source\": \"string\",\n",
    "    \"extraction_time\": \"ISO-8601 string\",\n",
    "    \"notes_hash\": \"sha256 of LECTURE_MD\",\n",
    "    \"allowed_relations\": [\"string\"]\n",
    "  }},\n",
    "  \"nodes\": [\n",
    "    {{\n",
    "      \"id\": \"string\",\n",
    "      \"label\": \"string\",\n",
    "      \"type\": \"string\",\n",
    "      \"definition\": \"string\",\n",
    "      \"aliases\": [\"string\"],\n",
    "      \"attributes\": {{ \"key\": \"value\" }},\n",
    "      \"provenance\": [\n",
    "        {{\"section_path\": [\"string\"], \"line_start\": 0, \"line_end\": 0, \"text_excerpt\": \"string\"}}\n",
    "      ],\n",
    "      \"confidence\": 0.0,\n",
    "      \"rationale\": \"string\"\n",
    "    }}\n",
    "  ],\n",
    "  \"edges\": [\n",
    "    {{\n",
    "      \"id\": \"string\",\n",
    "      \"source\": \"string\",\n",
    "      \"target\": \"string\",\n",
    "      \"relation\": \"string\",\n",
    "      \"provenance\": [\n",
    "        {{\"section_path\": [\"string\"], \"line_start\": 0, \"line_end\": 0, \"text_excerpt\": \"string\"}}\n",
    "      ],\n",
    "      \"confidence\": 0.0,\n",
    "      \"rationale\": \"string\"\n",
    "    }}\n",
    "  ]\n",
    "}}\n",
    "\n",
    "ALGORITHM\n",
    "1) Segment & index markdown into spans.\n",
    "2) Extract candidate nodes; normalize; collect aliases.\n",
    "3) Extract edges using only ALLOWED_RELATIONS from supported cues.\n",
    "4) Attach provenance and confidence with rationale.\n",
    "5) Deduplicate & prune; enforce constraints.\n",
    "6) Validate JSON; emit JSON only.\n",
    "\n",
    "RETURN\n",
    "Only the final JSON object.\n",
    "\n",
    "NOW PROCESS WITH:\n",
    "- ALLOWED_RELATIONS:\n",
    "{allowed_relations}\n",
    "- LECTURE_MD:\n",
    "{lecture_md}\n",
    "\"\"\""
   ]
  },
  {
   "cell_type": "markdown",
   "id": "7cde4c91-c88a-4384-8973-7c072fa27143",
   "metadata": {},
   "source": [
    "## Extraction Unitility Functions"
   ]
  },
  {
   "cell_type": "code",
   "execution_count": 6,
   "id": "9e3d9da3-a3b3-4d65-b7ea-0d8b6b7bc5c6",
   "metadata": {},
   "outputs": [],
   "source": [
    "def sha256_text(text: str) -> str:\n",
    "    return hashlib.sha256(text.encode(\"utf-8\")).hexdigest()\n",
    "\n",
    "\n",
    "def load_markdown(path: str) -> str:\n",
    "    with open(path, \"r\", encoding=\"utf-8\") as f:\n",
    "        return f.read()\n",
    "\n",
    "\n",
    "def build_prompt(md_text: str, allowed_relations: List[str]) -> str:\n",
    "    return PROMPT_KG_EXTRACT.format(\n",
    "        allowed_relations=json.dumps(allowed_relations, ensure_ascii=False),\n",
    "        lecture_md=md_text\n",
    "    )\n",
    "\n",
    "\n",
    "def parse_relations(relations_arg: str) -> List[str]:\n",
    "    \"\"\"\n",
    "    Accepts either:\n",
    "      - a JSON list string: '[\"isA\",\"uses\"]'\n",
    "      - a comma-separated string: 'isA,uses'\n",
    "    \"\"\"\n",
    "    try:\n",
    "        val = json.loads(relations_arg)\n",
    "        if isinstance(val, list) and all(isinstance(x, str) for x in val):\n",
    "            return val\n",
    "    except json.JSONDecodeError:\n",
    "        pass\n",
    "    # fallback: CSV\n",
    "    return [x.strip() for x in relations_arg.split(\",\") if x.strip()]"
   ]
  },
  {
   "cell_type": "code",
   "execution_count": 7,
   "id": "e268ce34-f727-4892-8d16-a0f57b164f72",
   "metadata": {},
   "outputs": [],
   "source": [
    "def call_openai(prompt: str, model: str) -> str:\n",
    "    client = OpenAI(api_key=OPENAI_API_KEY)\n",
    "\n",
    "    model = str(model)  # ensure it’s a plain string\n",
    "\n",
    "    try:\n",
    "        resp = client.chat.completions.create(\n",
    "            model=model,\n",
    "            messages=[\n",
    "                {\"role\": \"system\", \"content\": \"You are a helpful assistant on the given task.\"},\n",
    "                {\"role\": \"user\", \"content\": prompt},\n",
    "            ],\n",
    "            # temperature=0,  # optional\n",
    "        )\n",
    "        return resp.choices[0].message.content.strip()\n",
    "    except Exception as e:\n",
    "        raise RuntimeError(f\"LLM call failed: {e}\")"
   ]
  },
  {
   "cell_type": "markdown",
   "id": "e91e2d04-3521-4483-8841-4dd6a4a80ace",
   "metadata": {},
   "source": [
    "## Post Processing"
   ]
  },
  {
   "cell_type": "code",
   "execution_count": 8,
   "id": "49949d20-95f7-4451-875b-f131ea2ae653",
   "metadata": {},
   "outputs": [],
   "source": [
    "import json\n",
    "import re\n",
    "\n",
    "def extract_json_string(raw: str):\n",
    "    \"\"\"\n",
    "    Given a raw string from the LLM, attempt to extract a valid JSON string.\n",
    "    Works even if the raw string already *is* JSON, or if JSON is embedded\n",
    "    within explanatory text.\n",
    "    \"\"\"\n",
    "    raw = raw.strip()\n",
    "\n",
    "    # Case 1: Looks like pure JSON object already\n",
    "    if raw.startswith(\"{\") and raw.endswith(\"}\"):\n",
    "        try:\n",
    "            return json.loads(raw)\n",
    "        except json.JSONDecodeError:\n",
    "            pass  # fall through\n",
    "\n",
    "    # Case 2: Try to find the largest {...} block with regex\n",
    "    try:\n",
    "        match = re.search(r\"\\{.*\\}\", raw, re.DOTALL)\n",
    "        if match:\n",
    "            candidate = match.group(0)\n",
    "            return json.loads(candidate)\n",
    "    except Exception:\n",
    "        pass\n",
    "\n",
    "    # Case 3: Not JSON, return as-is for debugging\n",
    "    raise ValueError(\"No valid JSON found in raw output:\\n\" + raw[:500])"
   ]
  },
  {
   "cell_type": "code",
   "execution_count": 9,
   "id": "ea55222d-a698-4876-a8d1-926110d7d833",
   "metadata": {},
   "outputs": [],
   "source": [
    "# Optionally post-validate JSON (even when schema is enforced, defensive parsing is wise)\n",
    "def post_process_save(raw, md_text):\n",
    "    try:\n",
    "        parsed = extract_json_string(raw)\n",
    "    \n",
    "        # Enrich meta (non-destructive): fill source/hash/time if missing\n",
    "        notes_hash = sha256_text(md_text)\n",
    "        meta = parsed.get(\"meta\", {})\n",
    "        meta.setdefault(\"source\", os.path.abspath(input_path))\n",
    "        meta.setdefault(\"extraction_time\", datetime.utcnow().isoformat() + \"Z\")\n",
    "        meta.setdefault(\"notes_hash\", notes_hash)\n",
    "        meta.setdefault(\"allowed_relations\", relations)\n",
    "        parsed[\"meta\"] = meta\n",
    "    \n",
    "        #output_text = json.dumps(parsed, indent=2, ensure_ascii=False)\n",
    "    \n",
    "        return parsed\n",
    "    \n",
    "    except json.JSONDecodeError as e:\n",
    "        print(\"Model did not return valid JSON. Printing raw text to help debugging.\\n\")\n",
    "    \n",
    "        print(raw)   "
   ]
  },
  {
   "cell_type": "markdown",
   "id": "4857637e-e565-42c0-a5ed-25546b73fa9f",
   "metadata": {},
   "source": [
    "## Knowledge Graph Visualization"
   ]
  },
  {
   "cell_type": "code",
   "execution_count": 10,
   "id": "e9a7f780-8675-4d81-a70e-49aa272be725",
   "metadata": {},
   "outputs": [],
   "source": [
    "# ----------------------------- Build graph -----------------------------\n",
    "def build_nx_graph(kg: Dict[str, Any]) -> nx.DiGraph:\n",
    "    \"\"\"\n",
    "    Build a directed NetworkX graph from a KG dict with shape:\n",
    "      {\n",
    "        \"meta\": {...},\n",
    "        \"nodes\": [\n",
    "           {\"id\": \"...\", \"label\": \"...\", \"type\": \"...\", \"definition\": \"...\", \"aliases\":[...],\n",
    "            \"attributes\": {...}, \"provenance\":[...], \"confidence\": float, \"rationale\": \"...\"}\n",
    "        ],\n",
    "        \"edges\": [\n",
    "           {\"id\": \"...\", \"source\":\"...\", \"target\":\"...\", \"relation\":\"...\", \"provenance\":[...],\n",
    "            \"confidence\": float, \"rationale\": \"...\"}\n",
    "        ]\n",
    "      }\n",
    "\n",
    "    Returns:\n",
    "      nx.DiGraph with node/edge attributes preserved where sensible.\n",
    "    \"\"\"\n",
    "    if not isinstance(kg, dict):\n",
    "        raise TypeError(\"kg must be a dict (parsed JSON).\")\n",
    "    nodes = kg.get(\"nodes\", [])\n",
    "    edges = kg.get(\"edges\", [])\n",
    "\n",
    "    G = nx.DiGraph()\n",
    "    # Add nodes\n",
    "    for n in nodes:\n",
    "        nid = n.get(\"id\")\n",
    "        if not nid:\n",
    "            # Skip nodes without an id\n",
    "            continue\n",
    "        # Preserve common attributes (safe defaults)\n",
    "        G.add_node(\n",
    "            nid,\n",
    "            label=n.get(\"label\", nid),\n",
    "            type=n.get(\"type\", \"concept\"),\n",
    "            definition=n.get(\"definition\", \"\"),\n",
    "            aliases=n.get(\"aliases\", []),\n",
    "            attributes=n.get(\"attributes\", {}),\n",
    "            provenance=n.get(\"provenance\", []),\n",
    "            confidence=n.get(\"confidence\", None),\n",
    "            rationale=n.get(\"rationale\", \"\"),\n",
    "        )\n",
    "\n",
    "    # Add edges\n",
    "    for e in edges:\n",
    "        sid = e.get(\"source\")\n",
    "        tid = e.get(\"target\")\n",
    "        if not sid or not tid:\n",
    "            continue\n",
    "        if sid not in G or tid not in G:\n",
    "            # Ensure endpoints exist (skip otherwise)\n",
    "            continue\n",
    "        G.add_edge(\n",
    "            sid,\n",
    "            tid,\n",
    "            id=e.get(\"id\"),\n",
    "            relation=e.get(\"relation\", \"relatedTo\"),\n",
    "            provenance=e.get(\"provenance\", []),\n",
    "            confidence=e.get(\"confidence\", None),\n",
    "            rationale=e.get(\"rationale\", \"\"),\n",
    "        )\n",
    "\n",
    "    # Attach meta to graph graph-level attributes\n",
    "    if \"meta\" in kg:\n",
    "        G.graph[\"meta\"] = kg[\"meta\"]\n",
    "    return G"
   ]
  },
  {
   "cell_type": "code",
   "execution_count": 11,
   "id": "ea25d145-6727-4a18-831b-96abda2e3cf9",
   "metadata": {},
   "outputs": [],
   "source": [
    "# ----------------------------- Helpers for visualization -----------------------------\n",
    "def _select_subgraph_by_degree(G: nx.DiGraph, max_nodes: int) -> nx.DiGraph:\n",
    "    \"\"\"\n",
    "    If the graph is larger than max_nodes, keep nodes with highest total degree (in+out).\n",
    "    \"\"\"\n",
    "    if max_nodes is None or max_nodes <= 0 or G.number_of_nodes() <= max_nodes:\n",
    "        return G\n",
    "\n",
    "    # Score nodes by degree (in + out)\n",
    "    degree_scores = {n: (G.in_degree(n) + G.out_degree(n)) for n in G.nodes()}\n",
    "    top_nodes = sorted(degree_scores, key=degree_scores.get, reverse=True)[:max_nodes]\n",
    "    return G.subgraph(top_nodes).copy()\n",
    "\n",
    "\n",
    "def _node_labels(G: nx.DiGraph, node_label_attr: str = \"label\", truncate: int = 40) -> Dict[Any, str]:\n",
    "    \"\"\"\n",
    "    Build label mapping for nodes. Falls back to node id.\n",
    "    \"\"\"\n",
    "    labels = {}\n",
    "    for n, data in G.nodes(data=True):\n",
    "        val = data.get(node_label_attr, \"\") if isinstance(data, dict) else \"\"\n",
    "        if not val:\n",
    "            val = str(n)\n",
    "        if truncate and len(str(val)) > truncate:\n",
    "            val = str(val)[:truncate - 1] + \"…\"\n",
    "        labels[n] = val\n",
    "    return labels\n",
    "\n",
    "\n",
    "def _edge_labels(G: nx.DiGraph, truncate: int = 30) -> Dict[Tuple[Any, Any], str]:\n",
    "    \"\"\"\n",
    "    Build label mapping for edges from the 'relation' attribute, include confidence if present.\n",
    "    \"\"\"\n",
    "    labels = {}\n",
    "    for u, v, data in G.edges(data=True):\n",
    "        rel = data.get(\"relation\", \"rel\")\n",
    "        conf = data.get(\"confidence\", None)\n",
    "        txt = f\"{rel}\" if conf is None else f\"{rel} ({conf:.2f})\"\n",
    "        if truncate and len(txt) > truncate:\n",
    "            txt = txt[:truncate - 1] + \"…\"\n",
    "        labels[(u, v)] = txt\n",
    "    return labels\n"
   ]
  },
  {
   "cell_type": "code",
   "execution_count": 12,
   "id": "05ffcd22-0989-4111-8ef4-c2dee5953b6d",
   "metadata": {},
   "outputs": [],
   "source": [
    "# ----------------------------- Visualization -----------------------------\n",
    "def visualize_graph(\n",
    "    G: nx.DiGraph,\n",
    "    title: Optional[str] = None,\n",
    "    max_nodes: int = 150,\n",
    "    node_label_attr: str = \"label\",\n",
    "    with_edge_labels: bool = True,\n",
    "    k_layout: Optional[float] = None,\n",
    "    iterations: int = 100,\n",
    "    seed: int = 42,\n",
    "    figsize: Tuple[int, int] = (12, 9),\n",
    ") -> None:\n",
    "    \"\"\"\n",
    "    Visualize the graph with a spring layout.\n",
    "    - max_nodes: limit graph size for readability (keep top-degree nodes).\n",
    "    - node_label_attr: which node attribute to display (e.g., \"label\" or \"id\").\n",
    "    - with_edge_labels: toggle edge relation labels (can be heavy on big graphs).\n",
    "    - k_layout: spring_layout spacing parameter (None lets networkx choose).\n",
    "    - iterations: spring iterations.\n",
    "    - seed: layout seed for reproducibility.\n",
    "    - figsize: matplotlib figure size.\n",
    "\n",
    "    Note: For very large graphs, consider setting with_edge_labels=False or lowering max_nodes.\n",
    "    \"\"\"\n",
    "    if G.number_of_nodes() == 0:\n",
    "        raise ValueError(\"Graph has no nodes to visualize.\")\n",
    "\n",
    "    H = _select_subgraph_by_degree(G, max_nodes=max_nodes)\n",
    "\n",
    "    # Positions via spring layout (force-directed)\n",
    "    pos = nx.spring_layout(H, k=k_layout, iterations=iterations, seed=seed)\n",
    "\n",
    "    # Prepare labels\n",
    "    nlabels = _node_labels(H, node_label_attr=node_label_attr)\n",
    "    elabels = _edge_labels(H) if with_edge_labels else None\n",
    "\n",
    "    # Node sizes scaled by degree\n",
    "    degs = [H.degree(n) for n in H.nodes()]\n",
    "    # sqrt scaling for aesthetics\n",
    "    node_sizes = [300 + 50 * math.sqrt(d) for d in degs]\n",
    "\n",
    "    # Draw\n",
    "    plt.figure(figsize=figsize)\n",
    "    nx.draw_networkx_nodes(H, pos, node_size=node_sizes, linewidths=0.5, edgecolors=\"black\")\n",
    "    nx.draw_networkx_edges(H, pos, arrows=True, arrowstyle=\"-|>\", width=0.8, alpha=0.8)\n",
    "    nx.draw_networkx_labels(H, pos, labels=nlabels, font_size=9)\n",
    "\n",
    "    if with_edge_labels and elabels:\n",
    "        nx.draw_networkx_edge_labels(H, pos, edge_labels=elabels, font_size=8)\n",
    "\n",
    "    if title:\n",
    "        plt.title(title)\n",
    "\n",
    "    plt.axis(\"off\")\n",
    "    plt.tight_layout()\n",
    "    plt.show()"
   ]
  },
  {
   "cell_type": "markdown",
   "id": "daae5916-dc5e-4c71-8ac7-a7658f9597ec",
   "metadata": {},
   "source": [
    "## Run Pipeline\n",
    "### Extract an initial KG from a lecture notes"
   ]
  },
  {
   "cell_type": "code",
   "execution_count": 13,
   "id": "bf5e8512-5189-49d4-b265-e1a85c94f294",
   "metadata": {},
   "outputs": [],
   "source": [
    "input_path = \"./data/lecture_notes_8.md\"\n",
    "output_kg_json_path = \"./data/kg8.json\" "
   ]
  },
  {
   "cell_type": "code",
   "execution_count": 14,
   "id": "d523a267-4f33-4462-9393-b0248843534c",
   "metadata": {},
   "outputs": [],
   "source": [
    "md_text = load_markdown(input_path)"
   ]
  },
  {
   "cell_type": "code",
   "execution_count": 15,
   "id": "4b201f4c-0d27-4c86-8ae4-03d7ac0a3bfe",
   "metadata": {},
   "outputs": [],
   "source": [
    "relations = parse_relations(allowed_relations)"
   ]
  },
  {
   "cell_type": "code",
   "execution_count": 16,
   "id": "86fe633d-43c6-40d5-97f9-e2d3e17fc955",
   "metadata": {},
   "outputs": [],
   "source": [
    "prompt = build_prompt(md_text, relations)"
   ]
  },
  {
   "cell_type": "code",
   "execution_count": 17,
   "id": "5d41e62f-7eb2-4a8c-b7a4-72a695680523",
   "metadata": {
    "scrolled": true
   },
   "outputs": [
    {
     "data": {
      "text/plain": [
       "'\\nYou are an expert information extractor. Convert the provided lecture notes (markdown-annotated) \\ninto a compact, provenance-linked knowledge graph that strictly uses the allowed relations.\\n\\nINPUTS\\n- LECTURE_MD: full markdown notes (headings, lists, code, math, tables).\\n- ALLOWED_RELATIONS: the exact relation names you may use (string list).\\n\\nREQUIREMENTS\\n1) Output ONLY valid JSON matching the schema below—no commentary.\\n2) Use ONLY relations in ALLOWED_RELATIONS; if none applies, omit the edge.\\n3) Ground every node/edge with provenance: section_path, line spans, text_excerpt.\\n4) Prefer salient, testable concepts for MCQ generation.\\n5) No hallucinations; everything must be supported by a cited span.\\n6) De-duplicate nodes; keep a canonical label and store variants in aliases.\\n7) confidence in [0,1] with rationale. Keep graphs concise and informative.\\n\\nSEGMENTATION\\n- Build section_path from markdown headings.\\n- Atomic spans: paragraphs, list items, table rows, math blocks ($...$ / $$...$$), code fences ```...```.\\n- Capture math and code when they define/relate constructs.\\n\\nTARGET JSON SCHEMA\\n{\\n  \"meta\": {\\n    \"source\": \"string\",\\n    \"extraction_time\": \"ISO-8601 string\",\\n    \"notes_hash\": \"sha256 of LECTURE_MD\",\\n    \"allowed_relations\": [\"string\"]\\n  },\\n  \"nodes\": [\\n    {\\n      \"id\": \"string\",\\n      \"label\": \"string\",\\n      \"type\": \"string\",\\n      \"definition\": \"string\",\\n      \"aliases\": [\"string\"],\\n      \"attributes\": { \"key\": \"value\" },\\n      \"provenance\": [\\n        {\"section_path\": [\"string\"], \"line_start\": 0, \"line_end\": 0, \"text_excerpt\": \"string\"}\\n      ],\\n      \"confidence\": 0.0,\\n      \"rationale\": \"string\"\\n    }\\n  ],\\n  \"edges\": [\\n    {\\n      \"id\": \"string\",\\n      \"source\": \"string\",\\n      \"target\": \"string\",\\n      \"relation\": \"string\",\\n      \"provenance\": [\\n        {\"section_path\": [\"string\"], \"line_start\": 0, \"line_end\": 0, \"text_excerpt\": \"string\"}\\n      ],\\n      \"confidence\": 0.0,\\n      \"rationale\": \"string\"\\n    }\\n  ]\\n}\\n\\nALGORITHM\\n1) Segment & index markdown into spans.\\n2) Extract candidate nodes; normalize; collect aliases.\\n3) Extract edges using only ALLOWED_RELATIONS from supported cues.\\n4) Attach provenance and confidence with rationale.\\n5) Deduplicate & prune; enforce constraints.\\n6) Validate JSON; emit JSON only.\\n\\nRETURN\\nOnly the final JSON object.\\n\\nNOW PROCESS WITH:\\n- ALLOWED_RELATIONS:\\n[\"isA\", \"partOf\", \"prerequisiteOf\", \"dependsOn\", \"relatedTo\", \"synonymOf\", \"antonymOf\", \"contrastsWith\", \"defines\", \"uses\", \"usedBy\", \"appliesTo\", \"exampleOf\", \"counterexampleOf\", \"illustratedBy\", \"causes\", \"resultsIn\", \"prevents\", \"assumes\", \"implies\", \"equivalentTo\", \"parameterOf\", \"hasParameter\", \"propertyOf\", \"hasProperty\", \"measuredBy\", \"unitOf\", \"representedBy\", \"notationFor\", \"formulaFor\", \"provedBy\", \"theoremOf\", \"algorithmFor\", \"stepOf\", \"produces\", \"consumes\", \"advantageOf\", \"limitationOf\", \"commonErrorIn\", \"misconceptionOf\", \"commonlyConfusedWith\", \"assessedBy\"]\\n- LECTURE_MD:\\n# Data Science Programming:markdown\\n:markdown\\n## Week 9: Lecture 1: Time Series Data Analysis:markdown\\n:markdown\\n---:markdown\\n:markdown\\n**Agenda:**:markdown\\n- Apply techiques to time series data:markdown\\n\\n# Time Series:markdown\\nTime series data is an important form of structured data in many different fields, such:markdown\\nas finance, economics, ecology, neuroscience, and physics. Anything that is observed:markdown\\nor measured at many points in time forms a time series. Many time series are fixed:markdown\\nfrequency, which is to say that data points occur at regular intervals according to some:markdown\\nrule, such as every 15 seconds, every 5 minutes, or once per month. Time series can:markdown\\nalso be irregular without a fixed unit of time or offset between units. How you mark:markdown\\nand refer to time series data depends on the application, and you may have one of the:markdown\\nfollowing::markdown\\n:markdown\\n- Timestamps, specific instants in time Fixed periods, such as the month January 2007 or the full year 2010:markdown\\n- Intervals of time, indicated by a start and end timestamp. Periods can be thought:markdown\\nof as special cases of intervals:markdown\\n- Experiment or elapsed time; each timestamp is a measure of time relative to a:markdown\\nparticular start time (e.g., the diameter of a cookie baking each second since:markdown\\nbeing placed in the oven):markdown\\n\\n# imports:code\\nimport pandas as pd:code\\nimport numpy as np:code\\nimport matplotlib.pyplot as plt:code\\n\\n## Date and Time Data Types and Tools:markdown\\nThe Python standard library includes data types for date and time data, as well as:markdown\\ncalendar-related functionality. The datetime, time, and calendar modules are the:markdown\\nmain places to start. The datetime.datetime type, or simply datetime, is widely:markdown\\nused.:markdown\\n```:code\\nfrom datetime import datetime:code\\nnow = datetime.now():code\\n:code\\nnow.year, now.month, now.day:code\\n```:code\\n\\nWe can apply arithmatic operations on datetime objects::markdown\\n```:code\\ndatetime.now() - datetime(2024, 4, 20):code\\n```:code\\n\\nThe result have time related properties::markdown\\n```:code\\ndelta = datetime(2021, 1, 7) - datetime(2008, 6, 24, 8, 15):code\\n:code\\ndelta.days:code\\ndelta.seconds:code\\n```:code\\n\\n## Time Zone Handling:markdown\\n:markdown\\nWorking with time zones is generally considered one of the most unpleasant parts of:markdown\\ntime series manipulation. As a result, many time series users choose to work with:markdown\\ntime series in coordinated universal time or UTC, which is the successor to Greenwich:markdown\\nMean Time and is the current international standard. Time zones are expressed as:markdown\\noffsets from UTC; for example, New York is four hours behind UTC during daylight:markdown\\nsaving time and five hours behind the rest of the year.:markdown\\n:markdown\\nIn Python, time zone information comes from the third-party pytz library (installable:markdown\\nwith pip or conda), which exposes the Olson database, a compilation of world:markdown\\ntime zone information. This is especially important for historical data because the:markdown\\ndaylight saving time (DST) transition dates (and even UTC offsets) have been:markdown\\nchanged numerous times depending on the whims of local governments. In the United:markdown\\nStates, the DST transition times have been changed many times since 1900!:markdown\\n:markdown\\n```:code\\nimport pytz:code\\nlocal_tz = pytz.timezone(\\'America/New_York\\'):code\\n:code\\nnow = datetime.now():code\\n:code\\nnow = now.astimezone(local_tz):code\\n:code\\nnow.year:code\\n:code\\nnow.hour:code\\n:code\\nnow.tzinfo:code\\n```:code\\n\\n```:code\\nfor tz in pytz.common_timezones::code\\nif \\'America\\' in tz::code\\nprint(tz):code\\n```:code\\n\\n\\n### Converting Between String and Datetime:markdown\\nFormat datetime objects and pandas Timestamp objects as strings using str or the strftime method, passing a format specification.:markdown\\n```:code\\nstamp = datetime(2021, 1, 3):code\\nstr(stamp):code\\nstamp.strftime(\\'%Y-%m-%d\\'):code\\n:code\\ns = stamp.strftime(\\'%m/%d/%Y\\'):code\\n```:code\\n\\nConvert from string to datetime::markdown\\n```:code\\nd = datetime.strptime(s, \\'%m/%d/%Y\\'):code\\n```:code\\n\\n## Exercise::markdown\\n```:code\\nvalue = \\'2021-01-03\\':code\\ndatetime.strptime(value, \\'%Y-%m-%d\\'):code\\ndatestrs = [\\'7/6/2021\\', \\'8/6/2021\\']:code\\n[datetime.strptime(x, \\'%m/%d/%Y\\') for x in datestrs]:code\\n```:code\\n\\npandas is generally oriented toward working with arrays of dates, whether used as an:markdown\\naxis index or a column in a DataFrame. The to_datetime method parses many different:markdown\\nkinds of date representations. Standard date formats like ISO 8601 can be:markdown\\nparsed very quickly::markdown\\n```:code\\ndatestrs = [\\'2021-07-06 12:00:00\\', \\'2021-08-06 00:00:00\\']:code\\npd.to_datetime(datestrs):code\\n```:code\\n\\n## Time Series Basics:markdown\\nA basic kind of time series object in pandas is a Series indexed by timestamps, which:markdown\\nis often represented external to pandas as Python strings or datetime objects.:markdown\\n\\n```:code\\nfrom datetime import datetime:code\\ndates = [datetime(2021, 1, 2), datetime(2021, 1, 5),:code\\ndatetime(2021, 1, 7), datetime(2021, 1, 8),:code\\ndatetime(2021, 1, 10), datetime(2021, 1, 12)]:code\\nts = pd.Series(np.random.randn(6), index=dates):code\\nts:code\\n```:code\\n\\n```:code\\nts.index:code\\n```:code\\n\\nLike other Series, arithmetic operations between differently indexed time series automatically:markdown\\nalign on the dates::markdown\\n```:code\\nts + ts[::2]:code\\n```:code\\n\\n### Indexing, Selection, Subsetting:markdown\\nTime series behaves like any other pandas.Series when you are indexing and selecting:markdown\\ndata based on label::markdown\\n```:code\\nstamp = ts.index[2]:code\\nts[stamp]:code\\n```:code\\n\\nFor longer time series, a year or only a year and month can be passed to easily select:markdown\\nslices of data::markdown\\n```:code\\nlonger_ts = pd.Series(np.random.randn(1000),:code\\nindex=pd.date_range(\\'1/1/2023\\', periods=1000)):code\\nlonger_ts:code\\n```:code\\n\\n```:code\\nlonger_ts[\\'2023-5\\']:code\\n```:code\\n\\n### Time Series with Duplicate Indices:markdown\\nIn some applications, there may be multiple data observations falling on a particular:markdown\\ntimestamp. Here is an example::markdown\\n```:code\\ndates = pd.DatetimeIndex([\\'1/1/2000\\', \\'1/2/2000\\', \\'1/2/2000\\',:code\\n\\'1/2/2000\\', \\'1/3/2000\\']):code\\ndup_ts = pd.Series(np.arange(5), index=dates):code\\ndup_ts:code\\n```:code\\n\\nSuppose you wanted to aggregate the data having non-unique timestamps. One way:markdown\\nto do this is to use groupby and pass level=0::markdown\\n```:code\\ngrouped = dup_ts.groupby(level=0):code\\ngrouped.mean():code\\ngrouped.count():code\\n```:code\\n\\n## Date Ranges, Frequencies, and Shifting:markdown\\nGeneric time series in pandas are assumed to be irregular; that is, they have no fixed:markdown\\nfrequency. For many applications this is sufficient. However, it’s often desirable to:markdown\\nwork relative to a fixed frequency, such as daily, monthly, or every 15 minutes, even if:markdown\\nthat means introducing missing values into a time series. Fortunately pandas has a:markdown\\nfull suite of standard time series frequencies and tools for resampling, inferring frequencies,:markdown\\nand generating fixed-frequency date ranges. For example, you can convert:markdown\\nthe sample time series to be fixed daily frequency by calling resample::markdown\\n\\n```:code\\nfrom datetime import datetime:code\\ndates = [datetime(2021, 1, 2), datetime(2021, 1, 5),:code\\ndatetime(2021, 1, 7), datetime(2021, 1, 8),:code\\ndatetime(2021, 1, 10), datetime(2021, 1, 12)]:code\\nts = pd.Series(np.random.randn(6), index=dates):code\\nts:code\\n```:code\\n\\n```:code\\nts.resample(\\'D\\'):code\\n```:code\\n\\n```:code\\nresampler = ts.resample(\\'D\\'):code\\nresampler:code\\n```:code\\n\\n### Generating Date Ranges:markdown\\npandas.date_range is responsible for:markdown\\ngenerating a DatetimeIndex with an indicated length according to a particular:markdown\\nfrequency::markdown\\n```:code\\nindex = pd.date_range(\\'2012-04-01\\', \\'2012-06-01\\'):code\\nindex:code\\n```:code\\n\\n```:code\\npd.date_range(start=\\'2012-04-01\\', periods=20):code\\npd.date_range(end=\\'2012-06-01\\', periods=20):code\\n```:code\\n\\n```:code\\npd.date_range(\\'2000-01-01\\', \\'2000-12-01\\', freq=\\'BM\\'):code\\n```:code\\n\\n```:code\\npd.date_range(\\'2012-05-02 12:56:31\\', periods=5):code\\n```:code\\n\\n```:code\\npd.date_range(\\'2012-05-02 12:56:31\\', periods=5, normalize=True):code\\n```:code\\n\\n### Frequencies and Date Offsets:markdown\\n\\n```:code\\nfrom pandas.tseries.offsets import Hour, Minute:code\\nhour = Hour():code\\nhour:code\\n```:code\\n\\n```:code\\nfour_hours = Hour(4):code\\nfour_hours:code\\n```:code\\n\\n#### Week of month dates:markdown\\nOne useful frequency class is “week of month,” starting with WOM. This enables you to:markdown\\nget dates like the third Friday of each month::markdown\\n```:code\\nrng = pd.date_range(\\'2012-01-01\\', \\'2012-09-01\\', freq=\\'WOM-3FRI\\'):code\\nlist(rng):code\\n```:code\\n\\n### Shifting (Leading and Lagging) Data:markdown\\n“Shifting” refers to moving data backward and forward through time. Both Series and:markdown\\nDataFrame have a shift method for doing naive shifts forward or backward, leaving:markdown\\nthe index unmodified::markdown\\n\\n```:code\\nts = pd.Series(np.random.randn(4),:code\\nindex=pd.date_range(\\'1/1/2000\\', periods=4, freq=\\'M\\')):code\\nts:code\\nts.shift(2):code\\nts.shift(-2):code\\n```:code\\n\\n## Time Zone Handling in Pandas:markdown\\n\\n### Time Zone Localization and Conversion:markdown\\nBy default, time series in pandas are time zone naive. For example, consider the following:markdown\\ntime series::markdown\\n```:code\\nrng = pd.date_range(\\'3/9/2012 9:30\\', periods=6, freq=\\'D\\'):code\\nts = pd.Series(np.random.randn(len(rng)), index=rng):code\\nts:code\\n```:code\\n\\n### Operations with Time Zone−Aware Timestamp Objects:markdown\\nSimilar to time series and date ranges, individual Timestamp objects similarly can be:markdown\\nlocalized from naive to time zone–aware and converted from one time zone to:markdown\\nanother::markdown\\n```:code\\nstamp = pd.Timestamp(\\'2011-03-12 04:00\\'):code\\nstamp_utc = stamp.tz_localize(\\'utc\\'):code\\nstamp_utc.tz_convert(\\'America/New_York\\'):code\\n```:code\\n\\n### Operations Between Different Time Zones:markdown\\nIf two time series with different time zones are combined, the result will be UTC.:markdown\\nSince the timestamps are stored under the hood in UTC, this is a straightforward:markdown\\noperation and requires no conversion to happen::markdown\\n```:code\\nrng = pd.date_range(\\'3/7/2012 9:30\\', periods=10, freq=\\'B\\'):code\\nts = pd.Series(np.random.randn(len(rng)), index=rng):code\\nts:code\\nts1 = ts[:7].tz_localize(\\'Europe/London\\'):code\\nts2 = ts1[2:].tz_convert(\\'Europe/Moscow\\'):code\\nresult = ts1 + ts2:code\\nresult.index:code\\n```:code\\n\\n## Periods and Period Arithmetic:markdown\\nPeriods represent timespans, like days, months, quarters, or years. The Period class:markdown\\nrepresents this data type, requiring a string or integer and a frequency.:markdown\\n```:code\\np = pd.Period(2007, freq=\\'A-DEC\\'):code\\np:code\\n```:code\\n\\n### Period Frequency Conversion:markdown\\n```:code\\np = pd.Period(\\'2007\\', freq=\\'A-DEC\\'):code\\np:code\\np.asfreq(\\'M\\', how=\\'start\\'):code\\np.asfreq(\\'M\\', how=\\'end\\'):code\\n```:code\\n\\n### Quarterly Period Frequencies:markdown\\n```:code\\np = pd.Period(\\'2012Q4\\', freq=\\'Q-JAN\\'):code\\np:code\\n```:code\\n\\n### Converting Timestamps to Periods (and Back):markdown\\n```:code\\nrng = pd.date_range(\\'2000-01-01\\', periods=3, freq=\\'M\\'):code\\nts = pd.Series(np.random.randn(3), index=rng):code\\nts:code\\npts = ts.to_period():code\\npts:code\\n```:code\\n\\n## Resampling and Frequency Conversion:markdown\\n```:code\\nrng = pd.date_range(\\'2000-01-01\\', periods=100, freq=\\'D\\'):code\\nts = pd.Series(np.random.randn(len(rng)), index=rng):code\\nts:code\\nts.resample(\\'M\\').mean():code\\nts.resample(\\'M\\', kind=\\'period\\').mean():code\\n```:code\\n\\n### Downsampling:markdown\\n```:code\\nrng = pd.date_range(\\'2000-01-01\\', periods=12, freq=\\'T\\'):code\\nts = pd.Series(np.arange(12), index=rng):code\\nts:code\\n```:code\\n\\n```:code\\nts.resample(\\'5min\\', closed=\\'right\\').sum():code\\n```:code\\n\\n```:code\\nts.resample(\\'5min\\', closed=\\'right\\',:code\\nlabel=\\'right\\', loffset=\\'-1s\\').sum():code\\n```:code\\n\\n#### Open-High-Low-Close (OHLC) resampling:markdown\\n```:code\\nts.resample(\\'5min\\').ohlc():code\\n```:code\\n\\n### Upsampling and Interpolation:markdown\\n```:code\\nframe = pd.DataFrame(np.random.randn(2, 4),:code\\nindex=pd.date_range(\\'1/1/2000\\', periods=2,:code\\nfreq=\\'W-WED\\'),:code\\ncolumns=[\\'Colorado\\', \\'Texas\\', \\'New York\\', \\'Ohio\\']):code\\nframe:code\\n```:code\\n\\n```:code\\nframe.resample(\\'W-THU\\').ffill():code\\n```:code\\n\\n### Resampling with Periods:markdown\\n```:code\\nframe = pd.DataFrame(np.random.randn(24, 4),:code\\nindex=pd.period_range(\\'1-2000\\', \\'12-2001\\',:code\\nfreq=\\'M\\'),:code\\ncolumns=[\\'Colorado\\', \\'Texas\\', \\'New York\\', \\'Ohio\\']):code\\nframe[:5]:code\\nannual_frame = frame.resample(\\'A-DEC\\').mean():code\\nannual_frame:code\\n```:code\\n\\n```:code\\n# Q-DEC: Quarterly, year ending in December:code\\nannual_frame.resample(\\'Q-DEC\\').ffill():code\\nannual_frame.resample(\\'Q-DEC\\', convention=\\'end\\').ffill():code\\n```:code\\n\\n```:code\\nannual_frame.resample(\\'Q-MAR\\').ffill():code\\n```:code\\n\\n\\n'"
      ]
     },
     "execution_count": 17,
     "metadata": {},
     "output_type": "execute_result"
    }
   ],
   "source": [
    "prompt"
   ]
  },
  {
   "cell_type": "code",
   "execution_count": 19,
   "id": "169ef4b4-53e3-4d0b-a376-9b55f060d7e5",
   "metadata": {},
   "outputs": [],
   "source": [
    "# Call model\n",
    "model = \"gpt-4o-mini\"\n",
    "raw = call_openai(prompt=prompt, model=model)"
   ]
  },
  {
   "cell_type": "code",
   "execution_count": 20,
   "id": "5470cc51-1ec2-4c88-8411-375b6e50bcd2",
   "metadata": {},
   "outputs": [],
   "source": [
    "output_kg_json = post_process_save(raw, md_text) "
   ]
  },
  {
   "cell_type": "code",
   "execution_count": 21,
   "id": "3e5b2366-55f2-45e0-83b6-a2d80c5c93d5",
   "metadata": {
    "scrolled": true
   },
   "outputs": [
    {
     "data": {
      "text/plain": [
       "{'meta': {'source': 'Data Science Programming',\n",
       "  'extraction_time': '2023-10-01T00:00:00Z',\n",
       "  'notes_hash': '9d29c95b28d0bb85de79ebd3cb7e51caa37b30856c24f49f797889a749393062',\n",
       "  'allowed_relations': ['isA',\n",
       "   'partOf',\n",
       "   'prerequisiteOf',\n",
       "   'dependsOn',\n",
       "   'relatedTo',\n",
       "   'synonymOf',\n",
       "   'antonymOf',\n",
       "   'contrastsWith',\n",
       "   'defines',\n",
       "   'uses',\n",
       "   'usedBy',\n",
       "   'appliesTo',\n",
       "   'exampleOf',\n",
       "   'counterexampleOf',\n",
       "   'illustratedBy',\n",
       "   'causes',\n",
       "   'resultsIn',\n",
       "   'prevents',\n",
       "   'assumes',\n",
       "   'implies',\n",
       "   'equivalentTo',\n",
       "   'parameterOf',\n",
       "   'hasParameter',\n",
       "   'propertyOf',\n",
       "   'hasProperty',\n",
       "   'measuredBy',\n",
       "   'unitOf',\n",
       "   'representedBy',\n",
       "   'notationFor',\n",
       "   'formulaFor',\n",
       "   'provedBy',\n",
       "   'theoremOf',\n",
       "   'algorithmFor',\n",
       "   'stepOf',\n",
       "   'produces',\n",
       "   'consumes',\n",
       "   'advantageOf',\n",
       "   'limitationOf',\n",
       "   'commonErrorIn',\n",
       "   'misconceptionOf',\n",
       "   'commonlyConfusedWith',\n",
       "   'assessedBy']},\n",
       " 'nodes': [{'id': '1',\n",
       "   'label': 'Time Series Data',\n",
       "   'type': 'Concept',\n",
       "   'definition': 'Time series data is a sequence of data points indexed in time order.',\n",
       "   'aliases': ['Time Series'],\n",
       "   'attributes': {},\n",
       "   'provenance': [{'section_path': ['Time Series'],\n",
       "     'line_start': 1,\n",
       "     'line_end': 1,\n",
       "     'text_excerpt': 'Time series data is an important form of structured data in many different fields...'}],\n",
       "   'confidence': 1.0,\n",
       "   'rationale': 'The definition is directly stated and is fundamental to the topic of time series analysis.'},\n",
       "  {'id': '2',\n",
       "   'label': 'Pandas',\n",
       "   'type': 'Library',\n",
       "   'definition': 'Pandas is a Python library used for data manipulation and analysis.',\n",
       "   'aliases': ['pandas'],\n",
       "   'attributes': {},\n",
       "   'provenance': [{'section_path': ['imports'],\n",
       "     'line_start': 0,\n",
       "     'line_end': 0,\n",
       "     'text_excerpt': 'import pandas as pd'}],\n",
       "   'confidence': 1.0,\n",
       "   'rationale': 'The code snippet clearly shows the importation of the Pandas library, indicating its use in time series operations.'},\n",
       "  {'id': '3',\n",
       "   'label': 'Datetime',\n",
       "   'type': 'Concept',\n",
       "   'definition': 'The datetime class in Python provides methods for manipulating dates and times.',\n",
       "   'aliases': ['datetime'],\n",
       "   'attributes': {},\n",
       "   'provenance': [{'section_path': ['Date and Time Data Types and Tools'],\n",
       "     'line_start': 1,\n",
       "     'line_end': 1,\n",
       "     'text_excerpt': 'The datetime, time, and calendar modules are the main places to start.'}],\n",
       "   'confidence': 1.0,\n",
       "   'rationale': 'The description is directly sourced from the lecture notes and defines a key tool in time series analysis.'},\n",
       "  {'id': '4',\n",
       "   'label': 'Time Zone Handling',\n",
       "   'type': 'Concept',\n",
       "   'definition': 'Time zone handling is crucial for accurately analyzing time series data across different regions.',\n",
       "   'aliases': ['Time Zone Management'],\n",
       "   'attributes': {},\n",
       "   'provenance': [{'section_path': ['Time Zone Handling'],\n",
       "     'line_start': 0,\n",
       "     'line_end': 0,\n",
       "     'text_excerpt': 'Working with time zones is generally considered one of the most unpleasant parts of time series manipulation.'}],\n",
       "   'confidence': 1.0,\n",
       "   'rationale': 'The significance of time zone handling is highlighted as a key aspect of time series analysis.'},\n",
       "  {'id': '5',\n",
       "   'label': 'Timespan',\n",
       "   'type': 'Concept',\n",
       "   'definition': 'Periods in time series data represent timespans such as days, months, and years.',\n",
       "   'aliases': ['Period'],\n",
       "   'attributes': {},\n",
       "   'provenance': [{'section_path': ['Periods and Period Arithmetic'],\n",
       "     'line_start': 0,\n",
       "     'line_end': 0,\n",
       "     'text_excerpt': 'Periods represent timespans, like days, months, quarters, or years.'}],\n",
       "   'confidence': 1.0,\n",
       "   'rationale': 'The explanation of periods and their significance is crucial for understanding time series data.'}],\n",
       " 'edges': [{'id': 'edge1',\n",
       "   'source': '1',\n",
       "   'target': '2',\n",
       "   'relation': 'uses',\n",
       "   'provenance': [{'section_path': ['Time Series Basics'],\n",
       "     'line_start': 0,\n",
       "     'line_end': 0,\n",
       "     'text_excerpt': 'A basic kind of time series object in pandas is a Series indexed by timestamps.'}],\n",
       "   'confidence': 0.9,\n",
       "   'rationale': 'Time series data is often manipulated using the Pandas library, establishing a strong usage relation.'},\n",
       "  {'id': 'edge2',\n",
       "   'source': '2',\n",
       "   'target': '3',\n",
       "   'relation': 'dependsOn',\n",
       "   'provenance': [{'section_path': ['Date and Time Data Types and Tools'],\n",
       "     'line_start': 0,\n",
       "     'line_end': 0,\n",
       "     'text_excerpt': 'The datetime, time, and calendar modules are the main places to start.'}],\n",
       "   'confidence': 0.8,\n",
       "   'rationale': 'Pandas operations often rely on datetime for handling date and time data.'},\n",
       "  {'id': 'edge3',\n",
       "   'source': '1',\n",
       "   'target': '4',\n",
       "   'relation': 'relatedTo',\n",
       "   'provenance': [{'section_path': ['Time Zone Handling'],\n",
       "     'line_start': 0,\n",
       "     'line_end': 0,\n",
       "     'text_excerpt': 'Time zones are expressed as offsets from UTC...'}],\n",
       "   'confidence': 0.85,\n",
       "   'rationale': 'Time series analysis often requires adequate handling of time zones to ensure accurate representation of time data.'},\n",
       "  {'id': 'edge4',\n",
       "   'source': '1',\n",
       "   'target': '5',\n",
       "   'relation': 'hasProperty',\n",
       "   'provenance': [{'section_path': ['Periods and Period Arithmetic'],\n",
       "     'line_start': 0,\n",
       "     'line_end': 0,\n",
       "     'text_excerpt': 'The Period class represents this data type, requiring a string or integer and a frequency.'}],\n",
       "   'confidence': 0.9,\n",
       "   'rationale': 'Understanding periods is essential for effectively working with time series data.'}]}"
      ]
     },
     "execution_count": 21,
     "metadata": {},
     "output_type": "execute_result"
    }
   ],
   "source": [
    "output_kg_json"
   ]
  },
  {
   "cell_type": "code",
   "execution_count": 22,
   "id": "7b33976f-6e39-4a4f-8e10-54ad9e1a3d3e",
   "metadata": {},
   "outputs": [],
   "source": [
    "G = build_nx_graph(output_kg_json)"
   ]
  },
  {
   "cell_type": "code",
   "execution_count": 23,
   "id": "a83cb9cf-1b7a-41f4-822f-34f75ec91a16",
   "metadata": {},
   "outputs": [
    {
     "data": {
      "image/png": "[encoded data removed]",
      "text/plain": [
       "<Figure size 1200x900 with 1 Axes>"
      ]
     },
     "metadata": {},
     "output_type": "display_data"
    }
   ],
   "source": [
    "visualize_graph(G, title=\"Knowledge Graph\", max_nodes=120, node_label_attr=\"label\")"
   ]
  },
  {
   "cell_type": "code",
   "execution_count": 24,
   "id": "16287cb7-7ce9-44ce-8a24-42f62a965d2f",
   "metadata": {},
   "outputs": [
    {
     "data": {
      "text/plain": [
       "(5, 4)"
      ]
     },
     "execution_count": 24,
     "metadata": {},
     "output_type": "execute_result"
    }
   ],
   "source": [
    "len(output_kg_json['nodes']), len(output_kg_json['edges'])"
   ]
  },
  {
   "cell_type": "markdown",
   "id": "3974f6e8-2f12-4f76-bad7-6fa98f495fa8",
   "metadata": {},
   "source": [
    "## Save the Initial KG to File"
   ]
  },
  {
   "cell_type": "code",
   "execution_count": 25,
   "id": "d56e91a8-6e40-453d-be7b-7a00b66d7167",
   "metadata": {},
   "outputs": [
    {
     "name": "stdout",
     "output_type": "stream",
     "text": [
      "[OK] Knowledge graph written to ./data/kg8.json\n"
     ]
    }
   ],
   "source": [
    "output_text = json.dumps(output_kg_json, indent=2, ensure_ascii=False)\n",
    "    \n",
    "with open(output_kg_json_path, \"w\", encoding=\"utf-8\") as f:\n",
    "    f.write(output_text)\n",
    "    print(f\"[OK] Knowledge graph written to {output_kg_json_path}\")"
   ]
  },
  {
   "cell_type": "code",
   "execution_count": null,
   "id": "4f5b90f8-fe42-4022-8a80-40ea609ad768",
   "metadata": {},
   "outputs": [],
   "source": []
  }
 ],
 "metadata": {
  "kernelspec": {
   "display_name": "drtutor",
   "language": "python",
   "name": "drtutor"
  },
  "language_info": {
   "codemirror_mode": {
    "name": "ipython",
    "version": 3
   },
   "file_extension": ".py",
   "mimetype": "text/x-python",
   "name": "python",
   "nbconvert_exporter": "python",
   "pygments_lexer": "ipython3",
   "version": "3.11.5"
  }
 },
 "nbformat": 4,
 "nbformat_minor": 5
}
